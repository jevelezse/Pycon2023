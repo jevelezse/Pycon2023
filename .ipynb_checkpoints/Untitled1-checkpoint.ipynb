{
 "cells": [
  {
   "cell_type": "code",
   "execution_count": 2,
   "id": "41dd9e60-452d-4487-b24b-83452b9f07d6",
   "metadata": {},
   "outputs": [],
   "source": [
    "from Bio.SeqIO import parse \n",
    "from Bio.SeqRecord import SeqRecord \n",
    "from Bio.Seq import Seq "
   ]
  },
  {
   "cell_type": "code",
   "execution_count": 3,
   "id": "6881ee57-4b1b-4f08-aa05-af796b703bf6",
   "metadata": {},
   "outputs": [],
   "source": [
    "my_seq = Seq(\"AGTACACTGGT\")"
   ]
  },
  {
   "cell_type": "code",
   "execution_count": 4,
   "id": "88b09fb0-9bf6-4cd0-9afb-bdd5980fa258",
   "metadata": {},
   "outputs": [
    {
     "data": {
      "text/plain": [
       "11"
      ]
     },
     "execution_count": 4,
     "metadata": {},
     "output_type": "execute_result"
    }
   ],
   "source": [
    "len (my_seq)"
   ]
  },
  {
   "cell_type": "code",
   "execution_count": 8,
   "id": "81e8d2ca-2937-4b1f-a093-5641ad6634e9",
   "metadata": {},
   "outputs": [
    {
     "data": {
      "text/plain": [
       "Seq('AGT')"
      ]
     },
     "execution_count": 8,
     "metadata": {},
     "output_type": "execute_result"
    }
   ],
   "source": [
    "my_seq[0:3]"
   ]
  },
  {
   "cell_type": "code",
   "execution_count": null,
   "id": "dca551ad-052d-40b0-8421-fcc0961d1280",
   "metadata": {},
   "outputs": [],
   "source": []
  }
 ],
 "metadata": {
  "kernelspec": {
   "display_name": "Python 3 (ipykernel)",
   "language": "python",
   "name": "python3"
  },
  "language_info": {
   "codemirror_mode": {
    "name": "ipython",
    "version": 3
   },
   "file_extension": ".py",
   "mimetype": "text/x-python",
   "name": "python",
   "nbconvert_exporter": "python",
   "pygments_lexer": "ipython3",
   "version": "3.10.6"
  }
 },
 "nbformat": 4,
 "nbformat_minor": 5
}
