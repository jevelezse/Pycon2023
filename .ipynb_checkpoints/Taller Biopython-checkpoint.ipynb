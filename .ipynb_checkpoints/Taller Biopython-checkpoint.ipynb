{
 "cells": [
  {
   "cell_type": "markdown",
   "metadata": {},
   "source": [
    "  # Python para bioinformática"
   ]
  },
  {
   "cell_type": "markdown",
   "metadata": {},
   "source": [
    "Python es un lenguaje de programación interpretado cuya filosofía hace hincapié en una sintaxis que favorezca un código legible.\n",
    "\n",
    "Se trata de un lenguaje de programación multiparadigma, ya que soporta orientación a objetos, programación imperativa y, en menor medida, programación funcional. Es un lenguaje interpretado, usa tipado dinámico y es multiplataforma."
   ]
  },
  {
   "cell_type": "code",
   "execution_count": 1,
   "metadata": {
    "collapsed": false,
    "jupyter": {
     "outputs_hidden": false
    }
   },
   "outputs": [
    {
     "name": "stdout",
     "output_type": "stream",
     "text": [
      "Hola mundo\n"
     ]
    }
   ],
   "source": [
    "print (\"Hola mundo\")"
   ]
  },
  {
   "cell_type": "code",
   "execution_count": 2,
   "metadata": {
    "collapsed": false,
    "jupyter": {
     "outputs_hidden": false
    }
   },
   "outputs": [
    {
     "data": {
      "text/plain": [
       "10"
      ]
     },
     "execution_count": 2,
     "metadata": {},
     "output_type": "execute_result"
    }
   ],
   "source": [
    "5 + 5"
   ]
  },
  {
   "cell_type": "markdown",
   "metadata": {},
   "source": [
    "Declaración de variables"
   ]
  },
  {
   "cell_type": "code",
   "execution_count": 3,
   "metadata": {
    "collapsed": false,
    "jupyter": {
     "outputs_hidden": false
    }
   },
   "outputs": [],
   "source": [
    "x = 1 \n",
    "y = 2.3 \n",
    "z = 1j \n",
    "w = \"Hola\" "
   ]
  },
  {
   "cell_type": "code",
   "execution_count": 4,
   "metadata": {
    "collapsed": false,
    "jupyter": {
     "outputs_hidden": false
    }
   },
   "outputs": [
    {
     "data": {
      "text/plain": [
       "int"
      ]
     },
     "execution_count": 4,
     "metadata": {},
     "output_type": "execute_result"
    }
   ],
   "source": [
    "type (x)"
   ]
  },
  {
   "cell_type": "code",
   "execution_count": 5,
   "metadata": {
    "collapsed": false,
    "jupyter": {
     "outputs_hidden": false
    }
   },
   "outputs": [
    {
     "data": {
      "text/plain": [
       "float"
      ]
     },
     "execution_count": 5,
     "metadata": {},
     "output_type": "execute_result"
    }
   ],
   "source": [
    "type (y)"
   ]
  },
  {
   "cell_type": "code",
   "execution_count": 6,
   "metadata": {
    "collapsed": false,
    "jupyter": {
     "outputs_hidden": false
    }
   },
   "outputs": [
    {
     "data": {
      "text/plain": [
       "complex"
      ]
     },
     "execution_count": 6,
     "metadata": {},
     "output_type": "execute_result"
    }
   ],
   "source": [
    "type (z)"
   ]
  },
  {
   "cell_type": "code",
   "execution_count": 7,
   "metadata": {
    "collapsed": false,
    "jupyter": {
     "outputs_hidden": false
    }
   },
   "outputs": [
    {
     "data": {
      "text/plain": [
       "'1j'"
      ]
     },
     "execution_count": 7,
     "metadata": {},
     "output_type": "execute_result"
    }
   ],
   "source": [
    "str(z)"
   ]
  },
  {
   "cell_type": "code",
   "execution_count": 8,
   "metadata": {
    "collapsed": false,
    "jupyter": {
     "outputs_hidden": false
    }
   },
   "outputs": [
    {
     "data": {
      "text/plain": [
       "str"
      ]
     },
     "execution_count": 8,
     "metadata": {},
     "output_type": "execute_result"
    }
   ],
   "source": [
    "type (w)"
   ]
  },
  {
   "cell_type": "markdown",
   "metadata": {},
   "source": [
    "# Cadenas en python"
   ]
  },
  {
   "cell_type": "code",
   "execution_count": 9,
   "metadata": {
    "collapsed": false,
    "jupyter": {
     "outputs_hidden": false
    }
   },
   "outputs": [
    {
     "data": {
      "text/plain": [
       "'atggtacgtccgt'"
      ]
     },
     "execution_count": 9,
     "metadata": {},
     "output_type": "execute_result"
    }
   ],
   "source": [
    "'atg' + 'gtacgtccgt'"
   ]
  },
  {
   "cell_type": "code",
   "execution_count": 10,
   "metadata": {
    "collapsed": false,
    "jupyter": {
     "outputs_hidden": false
    }
   },
   "outputs": [
    {
     "data": {
      "text/plain": [
       "'atgatgatg'"
      ]
     },
     "execution_count": 10,
     "metadata": {},
     "output_type": "execute_result"
    }
   ],
   "source": [
    "'atg'*3"
   ]
  },
  {
   "cell_type": "code",
   "execution_count": 11,
   "metadata": {
    "collapsed": false,
    "jupyter": {
     "outputs_hidden": false
    }
   },
   "outputs": [
    {
     "data": {
      "text/plain": [
       "True"
      ]
     },
     "execution_count": 11,
     "metadata": {},
     "output_type": "execute_result"
    }
   ],
   "source": [
    "'atg' in 'atggccggcgta'"
   ]
  },
  {
   "cell_type": "code",
   "execution_count": 12,
   "metadata": {},
   "outputs": [],
   "source": [
    "dna=\"gatcccccgatattatttgc\""
   ]
  },
  {
   "cell_type": "code",
   "execution_count": 13,
   "metadata": {
    "collapsed": false,
    "jupyter": {
     "outputs_hidden": false
    }
   },
   "outputs": [
    {
     "data": {
      "text/plain": [
       "'g'"
      ]
     },
     "execution_count": 13,
     "metadata": {},
     "output_type": "execute_result"
    }
   ],
   "source": [
    "dna[0]"
   ]
  },
  {
   "cell_type": "code",
   "execution_count": 14,
   "metadata": {
    "collapsed": false,
    "jupyter": {
     "outputs_hidden": false
    }
   },
   "outputs": [
    {
     "data": {
      "text/plain": [
       "'c'"
      ]
     },
     "execution_count": 14,
     "metadata": {},
     "output_type": "execute_result"
    }
   ],
   "source": [
    "dna[-1]"
   ]
  },
  {
   "cell_type": "code",
   "execution_count": 15,
   "metadata": {
    "collapsed": false,
    "jupyter": {
     "outputs_hidden": false
    }
   },
   "outputs": [
    {
     "data": {
      "text/plain": [
       "'tcccccgatattatttgc'"
      ]
     },
     "execution_count": 15,
     "metadata": {},
     "output_type": "execute_result"
    }
   ],
   "source": [
    "dna[2:]"
   ]
  },
  {
   "cell_type": "code",
   "execution_count": 16,
   "metadata": {
    "collapsed": false,
    "jupyter": {
     "outputs_hidden": false
    }
   },
   "outputs": [
    {
     "data": {
      "text/plain": [
       "20"
      ]
     },
     "execution_count": 16,
     "metadata": {},
     "output_type": "execute_result"
    }
   ],
   "source": [
    "len(dna)"
   ]
  },
  {
   "cell_type": "code",
   "execution_count": 17,
   "metadata": {
    "collapsed": false,
    "jupyter": {
     "outputs_hidden": false
    }
   },
   "outputs": [
    {
     "data": {
      "text/plain": [
       "6"
      ]
     },
     "execution_count": 17,
     "metadata": {},
     "output_type": "execute_result"
    }
   ],
   "source": [
    "dna.count('c')"
   ]
  },
  {
   "cell_type": "code",
   "execution_count": 18,
   "metadata": {},
   "outputs": [],
   "source": [
    "adn = \"AGCTTTTCATTCTGACTGCAACGGGCAATATGTCTCTGTGTGGATTAAAAAAAGAGTGTCTGATAGCAGC\""
   ]
  },
  {
   "cell_type": "code",
   "execution_count": 19,
   "metadata": {
    "collapsed": false,
    "jupyter": {
     "outputs_hidden": false
    }
   },
   "outputs": [
    {
     "name": "stdout",
     "output_type": "stream",
     "text": [
      "12 17 21 20\n"
     ]
    }
   ],
   "source": [
    "c = adn.count('C')\n",
    "g = adn.count('G')\n",
    "t = adn.count('T')\n",
    "a = adn.count('A')\n",
    "print(c,g,t,a)"
   ]
  },
  {
   "cell_type": "code",
   "execution_count": 20,
   "metadata": {},
   "outputs": [],
   "source": [
    "dna = 'acgctcgcgcggcgatagctgatcgatcggcgcgctttttttttaaaag'"
   ]
  },
  {
   "cell_type": "code",
   "execution_count": 21,
   "metadata": {},
   "outputs": [],
   "source": [
    "no_c = dna.count('c')"
   ]
  },
  {
   "cell_type": "code",
   "execution_count": 22,
   "metadata": {},
   "outputs": [],
   "source": [
    "no_g = dna.count('g')"
   ]
  },
  {
   "cell_type": "code",
   "execution_count": 23,
   "metadata": {
    "collapsed": false,
    "jupyter": {
     "outputs_hidden": false
    }
   },
   "outputs": [
    {
     "name": "stdout",
     "output_type": "stream",
     "text": [
      "49\n"
     ]
    }
   ],
   "source": [
    "dna_largo = len(dna)\n",
    "print (dna_largo)"
   ]
  },
  {
   "cell_type": "code",
   "execution_count": 24,
   "metadata": {
    "collapsed": false,
    "jupyter": {
     "outputs_hidden": false
    }
   },
   "outputs": [
    {
     "data": {
      "text/plain": [
       "'ACGCTCGCGCGGCGATAGCTGATCGATCGGCGCGCTTTTTTTTTAAAAG'"
      ]
     },
     "execution_count": 24,
     "metadata": {},
     "output_type": "execute_result"
    }
   ],
   "source": [
    "dna.upper()"
   ]
  },
  {
   "cell_type": "code",
   "execution_count": 25,
   "metadata": {},
   "outputs": [],
   "source": [
    "gc_porcentaje =(no_c+no_g)*100.0/dna_largo"
   ]
  },
  {
   "cell_type": "code",
   "execution_count": 26,
   "metadata": {
    "collapsed": false,
    "jupyter": {
     "outputs_hidden": false
    }
   },
   "outputs": [
    {
     "name": "stdout",
     "output_type": "stream",
     "text": [
      "53.06122448979592\n"
     ]
    }
   ],
   "source": [
    "print(gc_porcentaje)"
   ]
  },
  {
   "cell_type": "code",
   "execution_count": 27,
   "metadata": {
    "collapsed": false,
    "jupyter": {
     "outputs_hidden": false
    }
   },
   "outputs": [
    {
     "data": {
      "text/plain": [
       "'t'"
      ]
     },
     "execution_count": 27,
     "metadata": {},
     "output_type": "execute_result"
    }
   ],
   "source": [
    "dna[22] "
   ]
  },
  {
   "cell_type": "markdown",
   "metadata": {},
   "source": [
    "## Ejercicio 1"
   ]
  },
  {
   "cell_type": "markdown",
   "metadata": {},
   "source": [
    "1. Para la secuencia del ejecicio 1 calcule el número de núcleotidos presentes en la cadena dada.\n",
    "2. Calcule el tamaño de la secuencia.\n",
    "3. Calcule el procentaje de GC.\n",
    "4. ¿Cuáles son los núcleotidos que se encuentran en las posicion 355 a la 360?\n",
    "\n"
   ]
  },
  {
   "cell_type": "markdown",
   "metadata": {},
   "source": [
    "# Listas"
   ]
  },
  {
   "cell_type": "markdown",
   "metadata": {},
   "source": [
    "Son secuencias mutables que pueden contener distintos tipos de variables, estas se representan con *[ ]*"
   ]
  },
  {
   "cell_type": "code",
   "execution_count": 28,
   "metadata": {},
   "outputs": [],
   "source": [
    "xs = [78455, 89211, 66540, 'hola',0.5]"
   ]
  },
  {
   "cell_type": "code",
   "execution_count": 29,
   "metadata": {
    "collapsed": false,
    "jupyter": {
     "outputs_hidden": false
    }
   },
   "outputs": [
    {
     "data": {
      "text/plain": [
       "89211"
      ]
     },
     "execution_count": 29,
     "metadata": {},
     "output_type": "execute_result"
    }
   ],
   "source": [
    "xs[1]"
   ]
  },
  {
   "cell_type": "code",
   "execution_count": 30,
   "metadata": {},
   "outputs": [],
   "source": [
    "xs.append(47890)"
   ]
  },
  {
   "cell_type": "code",
   "execution_count": 31,
   "metadata": {
    "collapsed": false,
    "jupyter": {
     "outputs_hidden": false
    }
   },
   "outputs": [
    {
     "data": {
      "text/plain": [
       "[78455, 89211, 66540, 'hola', 0.5, 47890]"
      ]
     },
     "execution_count": 31,
     "metadata": {},
     "output_type": "execute_result"
    }
   ],
   "source": [
    "xs"
   ]
  },
  {
   "cell_type": "code",
   "execution_count": 32,
   "metadata": {},
   "outputs": [],
   "source": [
    "xs.remove(0.5)"
   ]
  },
  {
   "cell_type": "code",
   "execution_count": 33,
   "metadata": {
    "collapsed": false,
    "jupyter": {
     "outputs_hidden": false
    }
   },
   "outputs": [
    {
     "data": {
      "text/plain": [
       "[78455, 89211, 66540, 'hola', 47890]"
      ]
     },
     "execution_count": 33,
     "metadata": {},
     "output_type": "execute_result"
    }
   ],
   "source": [
    "xs"
   ]
  },
  {
   "cell_type": "code",
   "execution_count": 34,
   "metadata": {
    "collapsed": false,
    "jupyter": {
     "outputs_hidden": false
    }
   },
   "outputs": [
    {
     "data": {
      "text/plain": [
       "5"
      ]
     },
     "execution_count": 34,
     "metadata": {},
     "output_type": "execute_result"
    }
   ],
   "source": [
    "len(xs)"
   ]
  },
  {
   "cell_type": "code",
   "execution_count": 35,
   "metadata": {
    "collapsed": false,
    "jupyter": {
     "outputs_hidden": false
    }
   },
   "outputs": [
    {
     "name": "stdout",
     "output_type": "stream",
     "text": [
      "TCGTACCGCGCCTCCTCAACGCACTACTTATTGCGACGTAATGTGTTATCCGATCCCATGATCGTGTAAATTATCTATAAGACATGACGTATTACCTGCCAGCCATCTCTTCTGCCTCATCTTGACCGCTTCAACGCTTGCGCATCAAAGTACGGCAATGTCCACGCGTCCTGATGTGGTGACCAGGAGTGGACGCCCCTGCGTACTGTAGAGGTCTTTACGTTACCGATCCCGGTGATCTGTATGTCCAGCTGACCTGGAATCACATGGTCCAGTTTCGCGACACAACTCAATAGTCCGTCCTCGTTGACAACGGATGAGACGAAAACAATATAATTCCGTGATCGTCGCTATGGCGGCGTCATCCGGAAGAATTTACGGGGATAGGTGACCTATTTTTAAGCAAACGCGTGAGCAGGCGACCTCAAACCAGGGGAGAGCCAGAAGCCCCTATGGACGGCGGGAGCGTCGGACCTTCTGGGTTCTTGGCAGTATTGGCATACGTTTTTTAGTGCAGTCCAAATTACAGTTCTGGATGACATGGAGGTTTCGTTCATGGATAGATAGATGCATGTGGTACTCTAGGGTTTTTTCCCGGGAGGTTGCTACTACAGGTAGCGAGCGGAGCGTTCGGTTTCCAGGTCGCCTATTGGTTCCGTTTGGCTTGATCTTGCACAGTACCCTACTATGTGTGGTAGCCTTTCATTACTTTAAGCAGCGACGATTACGACACACATTGGGGCACCCATGCCGGAGAGAATTTGGCTCCGCGTAACTGATGTAATCGATATAATCCCATCCAGCGACAGCCCGTATGGTCTAACAATTAGTGACAGGCTGGGGACGAGAATGAGTAACTCAAAGGATGCCAGACTGGCAGCCCCAGAACCGCATGTATCTTCGGAATTGTAGATATTCTGGTCAGGCCTGGCTTCTCCGTGTTAATATG\n"
     ]
    }
   ],
   "source": [
    "dna1 = \"TCGTACCGCGCCTCCTCAACGCACTACTTATTGCGACGTAATGTGTTATCCGATCCCATGATCGTGTAAATTATCTATAAGACATGACGTATTACCTGCCAGCCATCTCTTCTGCCTCATCTTGACCGCTTCAACGCTTGCGCATCAAAGTACGGCAATGTCCACGCGTCCTGATGTGGTGACCAGGAGTGGACGCCCCTGCGTACTGTAGAGGTCTTTACGTTACCGATCCCGGTGATCTGTATGTCCAGCTGACCTGGAATCACATGGTCCAGTTTCGCGACACAACTCAATAGTCCGTCCTCGTTGACAACGGATGAGACGAAAACAATATAATTCCGTGATCGTCGCTATGGCGGCGTCATCCGGAAGAATTTACGGGGATAGGTGACCTATTTTTAAGCAAACGCGTGAGCAGGCGACCTCAAACCAGGGGAGAGCCAGAAGCCCCTATGGACGGCGGGAGCGTCGGACCTTCTGGGTTCTTGGCAGTATTGGCATACGTTTTTTAGTGCAGTCCAAATTACAGTTCTGGATGACATGGAGGTTTCGTTCATGGATAGATAGATGCATGTGGTACTCTAGGGTTTTTTCCCGGGAGGTTGCTACTACAGGTAGCGAGCGGAGCGTTCGGTTTCCAGGTCGCCTATTGGTTCCGTTTGGCTTGATCTTGCACAGTACCCTACTATGTGTGGTAGCCTTTCATTACTTTAAGCAGCGACGATTACGACACACATTGGGGCACCCATGCCGGAGAGAATTTGGCTCCGCGTAACTGATGTAATCGATATAATCCCATCCAGCGACAGCCCGTATGGTCTAACAATTAGTGACAGGCTGGGGACGAGAATGAGTAACTCAAAGGATGCCAGACTGGCAGCCCCAGAACCGCATGTATCTTCGGAATTGTAGATATTCTGGTCAGGCCTGGCTTCTCCGTGTTAATATG\"\n",
    "print (dna1)"
   ]
  },
  {
   "cell_type": "markdown",
   "metadata": {},
   "source": [
    "## Funciones en python. "
   ]
  },
  {
   "cell_type": "markdown",
   "metadata": {},
   "source": [
    "**def** mi_funcion(): "
   ]
  },
  {
   "cell_type": "code",
   "execution_count": 36,
   "metadata": {
    "tags": []
   },
   "outputs": [],
   "source": [
    "def gc(dna) :\n",
    "    \"Esta función calcula el %GC\"\n",
    "    nbases=dna.count('n')+dna.count('N')\n",
    "    gcpercent=float(dna.count('c')+dna.count('C')+dna.count('g')+dna.count('G'))*100.0/(len(dna)-nbases)\n",
    "    return gcpercent"
   ]
  },
  {
   "cell_type": "code",
   "execution_count": 37,
   "metadata": {
    "collapsed": false,
    "jupyter": {
     "outputs_hidden": false
    }
   },
   "outputs": [
    {
     "data": {
      "text/plain": [
       "50.26343519494205"
      ]
     },
     "execution_count": 37,
     "metadata": {},
     "output_type": "execute_result"
    }
   ],
   "source": [
    "gc(dna1)"
   ]
  },
  {
   "cell_type": "code",
   "execution_count": 99,
   "metadata": {
    "tags": []
   },
   "outputs": [],
   "source": [
    "def transcibir(dna): \n",
    "    \"\"\"Retorna dna como rna \"\"\" \n",
    "    return dna.replace('T', 'U') "
   ]
  },
  {
   "cell_type": "code",
   "execution_count": 39,
   "metadata": {
    "collapsed": false,
    "jupyter": {
     "outputs_hidden": false
    }
   },
   "outputs": [
    {
     "data": {
      "text/plain": [
       "'UCGUACCGCGCCUCCUCAACGCACUACUUAUUGCGACGUAAUGUGUUAUCCGAUCCCAUGAUCGUGUAAAUUAUCUAUAAGACAUGACGUAUUACCUGCCAGCCAUCUCUUCUGCCUCAUCUUGACCGCUUCAACGCUUGCGCAUCAAAGUACGGCAAUGUCCACGCGUCCUGAUGUGGUGACCAGGAGUGGACGCCCCUGCGUACUGUAGAGGUCUUUACGUUACCGAUCCCGGUGAUCUGUAUGUCCAGCUGACCUGGAAUCACAUGGUCCAGUUUCGCGACACAACUCAAUAGUCCGUCCUCGUUGACAACGGAUGAGACGAAAACAAUAUAAUUCCGUGAUCGUCGCUAUGGCGGCGUCAUCCGGAAGAAUUUACGGGGAUAGGUGACCUAUUUUUAAGCAAACGCGUGAGCAGGCGACCUCAAACCAGGGGAGAGCCAGAAGCCCCUAUGGACGGCGGGAGCGUCGGACCUUCUGGGUUCUUGGCAGUAUUGGCAUACGUUUUUUAGUGCAGUCCAAAUUACAGUUCUGGAUGACAUGGAGGUUUCGUUCAUGGAUAGAUAGAUGCAUGUGGUACUCUAGGGUUUUUUCCCGGGAGGUUGCUACUACAGGUAGCGAGCGGAGCGUUCGGUUUCCAGGUCGCCUAUUGGUUCCGUUUGGCUUGAUCUUGCACAGUACCCUACUAUGUGUGGUAGCCUUUCAUUACUUUAAGCAGCGACGAUUACGACACACAUUGGGGCACCCAUGCCGGAGAGAAUUUGGCUCCGCGUAACUGAUGUAAUCGAUAUAAUCCCAUCCAGCGACAGCCCGUAUGGUCUAACAAUUAGUGACAGGCUGGGGACGAGAAUGAGUAACUCAAAGGAUGCCAGACUGGCAGCCCCAGAACCGCAUGUAUCUUCGGAAUUGUAGAUAUUCUGGUCAGGCCUGGCUUCUCCGUGUUAAUAUG'"
      ]
     },
     "execution_count": 39,
     "metadata": {},
     "output_type": "execute_result"
    }
   ],
   "source": [
    "transcibir(dna1)"
   ]
  },
  {
   "cell_type": "markdown",
   "metadata": {},
   "source": [
    "# Ejecicio2"
   ]
  },
  {
   "cell_type": "markdown",
   "metadata": {},
   "source": [
    "1. Abra el archivo dna2.fasta y cuente cuantas secuencias fasta hay en el archivo.\n",
    "2. Calcule el número de secuencias ATG que tiene el archvo."
   ]
  },
  {
   "cell_type": "code",
   "execution_count": 40,
   "metadata": {
    "collapsed": false,
    "jupyter": {
     "outputs_hidden": false
    }
   },
   "outputs": [
    {
     "data": {
      "text/plain": [
       "Seq('MAL')"
      ]
     },
     "execution_count": 40,
     "metadata": {},
     "output_type": "execute_result"
    }
   ],
   "source": [
    "from Bio.Seq import Seq\n",
    "secuencia = Seq('ATGGCCTTG')\n",
    "secuencia.translate()"
   ]
  },
  {
   "cell_type": "code",
   "execution_count": 41,
   "metadata": {
    "collapsed": false,
    "jupyter": {
     "outputs_hidden": false
    }
   },
   "outputs": [
    {
     "name": "stdout",
     "output_type": "stream",
     "text": [
      "MAL\n"
     ]
    }
   ],
   "source": [
    "secuencia_prot = secuencia.translate()\n",
    "print (str(secuencia_prot))"
   ]
  },
  {
   "cell_type": "code",
   "execution_count": 42,
   "metadata": {
    "collapsed": false,
    "jupyter": {
     "outputs_hidden": false
    }
   },
   "outputs": [
    {
     "name": "stdout",
     "output_type": "stream",
     "text": [
      "NC_004718.3\n",
      "Seq('ATATTAGGTTTTTACCTACCCAGGAAAAGCCAACCAACCTCGATCTCTTGTAGA...AAA')\n",
      "29751\n"
     ]
    }
   ],
   "source": [
    "from Bio import SeqIO\n",
    "ID = []\n",
    "for seq_record in SeqIO.parse(\"dna.fasta\", \"fasta\"):\n",
    "    ID.append(seq_record.id)\n",
    "    print(seq_record.id)\n",
    "    print(repr(seq_record.seq))\n",
    "    print(len(seq_record))"
   ]
  },
  {
   "cell_type": "code",
   "execution_count": 43,
   "metadata": {
    "collapsed": false,
    "jupyter": {
     "outputs_hidden": false
    }
   },
   "outputs": [
    {
     "data": {
      "text/plain": [
       "['NC_004718.3']"
      ]
     },
     "execution_count": 43,
     "metadata": {},
     "output_type": "execute_result"
    }
   ],
   "source": [
    "ID"
   ]
  },
  {
   "cell_type": "code",
   "execution_count": 44,
   "metadata": {},
   "outputs": [],
   "source": [
    "s = str(ID)"
   ]
  },
  {
   "cell_type": "code",
   "execution_count": 45,
   "metadata": {
    "collapsed": false,
    "jupyter": {
     "outputs_hidden": false
    }
   },
   "outputs": [
    {
     "data": {
      "text/plain": [
       "\"['NC_004718.3']\""
      ]
     },
     "execution_count": 45,
     "metadata": {},
     "output_type": "execute_result"
    }
   ],
   "source": [
    "s"
   ]
  },
  {
   "cell_type": "code",
   "execution_count": 46,
   "metadata": {
    "collapsed": false,
    "jupyter": {
     "outputs_hidden": false
    }
   },
   "outputs": [],
   "source": [
    "archi4 = open('IDfasta.txt','w') \n",
    "s = str(ID)\n",
    "archi4.write(s)\n",
    "archi4.close()"
   ]
  },
  {
   "cell_type": "code",
   "execution_count": 1,
   "metadata": {
    "collapsed": false,
    "jupyter": {
     "outputs_hidden": false
    }
   },
   "outputs": [
    {
     "name": "stdout",
     "output_type": "stream",
     "text": [
      "Help on function qblast in module Bio.Blast.NCBIWWW:\n",
      "\n",
      "qblast(program, database, sequence, url_base='https://blast.ncbi.nlm.nih.gov/Blast.cgi', auto_format=None, composition_based_statistics=None, db_genetic_code=None, endpoints=None, entrez_query='(none)', expect=10.0, filter=None, gapcosts=None, genetic_code=None, hitlist_size=50, i_thresh=None, layout=None, lcase_mask=None, matrix_name=None, nucl_penalty=None, nucl_reward=None, other_advanced=None, perc_ident=None, phi_pattern=None, query_file=None, query_believe_defline=None, query_from=None, query_to=None, searchsp_eff=None, service=None, threshold=None, ungapped_alignment=None, word_size=None, short_query=None, alignments=500, alignment_view=None, descriptions=500, entrez_links_new_window=None, expect_low=None, expect_high=None, format_entrez_query=None, format_object=None, format_type='XML', ncbi_gi=None, results_file=None, show_overview=None, megablast=None, template_type=None, template_length=None, username='blast', password=None)\n",
      "    BLAST search using NCBI's QBLAST server or a cloud service provider.\n",
      "    \n",
      "    Supports all parameters of the old qblast API for Put and Get.\n",
      "    \n",
      "    Please note that NCBI uses the new Common URL API for BLAST searches\n",
      "    on the internet (http://ncbi.github.io/blast-cloud/dev/api.html). Thus,\n",
      "    some of the parameters used by this function are not (or are no longer)\n",
      "    officially supported by NCBI. Although they are still functioning, this\n",
      "    may change in the future.\n",
      "    \n",
      "    The Common URL API (http://ncbi.github.io/blast-cloud/dev/api.html) allows\n",
      "    doing BLAST searches on cloud servers. To use this feature, please set\n",
      "    ``url_base='http://host.my.cloud.service.provider.com/cgi-bin/blast.cgi'``\n",
      "    and ``format_object='Alignment'``. For more details, please see\n",
      "    https://blast.ncbi.nlm.nih.gov/Blast.cgi?PAGE_TYPE=BlastDocs&DOC_TYPE=CloudBlast\n",
      "    \n",
      "    Some useful parameters:\n",
      "    \n",
      "     - program        blastn, blastp, blastx, tblastn, or tblastx (lower case)\n",
      "     - database       Which database to search against (e.g. \"nr\").\n",
      "     - sequence       The sequence to search.\n",
      "     - ncbi_gi        TRUE/FALSE whether to give 'gi' identifier.\n",
      "     - descriptions   Number of descriptions to show.  Def 500.\n",
      "     - alignments     Number of alignments to show.  Def 500.\n",
      "     - expect         An expect value cutoff.  Def 10.0.\n",
      "     - matrix_name    Specify an alt. matrix (PAM30, PAM70, BLOSUM80, BLOSUM45).\n",
      "     - filter         \"none\" turns off filtering.  Default no filtering\n",
      "     - format_type    \"HTML\", \"Text\", \"ASN.1\", or \"XML\".  Def. \"XML\".\n",
      "     - entrez_query   Entrez query to limit Blast search\n",
      "     - hitlist_size   Number of hits to return. Default 50\n",
      "     - megablast      TRUE/FALSE whether to use MEga BLAST algorithm (blastn only)\n",
      "     - short_query    TRUE/FALSE whether to adjust the search parameters for a\n",
      "                      short query sequence. Note that this will override\n",
      "                      manually set parameters like word size and e value. Turns\n",
      "                      off when sequence length is > 30 residues. Default: None.\n",
      "     - service        plain, psi, phi, rpsblast, megablast (lower case)\n",
      "    \n",
      "    This function does no checking of the validity of the parameters\n",
      "    and passes the values to the server as is.  More help is available at:\n",
      "    https://ncbi.github.io/blast-cloud/dev/api.html\n",
      "\n"
     ]
    }
   ],
   "source": [
    "from Bio.Blast import NCBIWWW\n",
    "help(NCBIWWW.qblast)"
   ]
  },
  {
   "cell_type": "code",
   "execution_count": 2,
   "metadata": {
    "tags": []
   },
   "outputs": [],
   "source": [
    "from Bio.Blast import NCBIWWW\n",
    "#fasta_string = open(\"Insulina.fasta\").read()\n",
    "fasta_string = 'ATATTAGGTTTTTACCTACCCAGGAAAAGCCAACCAACCTCGATCTCTTGTAGA'\n",
    "result_handle = NCBIWWW.qblast(\"blastn\",\"nt\", fasta_string)"
   ]
  },
  {
   "cell_type": "code",
   "execution_count": 3,
   "metadata": {
    "collapsed": false,
    "jupyter": {
     "outputs_hidden": false
    }
   },
   "outputs": [],
   "source": [
    "from Bio.Blast import NCBIXML\n",
    "blast_record = NCBIXML.read(result_handle)"
   ]
  },
  {
   "cell_type": "code",
   "execution_count": 4,
   "metadata": {
    "collapsed": false,
    "jupyter": {
     "outputs_hidden": false
    }
   },
   "outputs": [
    {
     "data": {
      "text/plain": [
       "50"
      ]
     },
     "execution_count": 4,
     "metadata": {},
     "output_type": "execute_result"
    }
   ],
   "source": [
    "len(blast_record.alignments)"
   ]
  },
  {
   "cell_type": "code",
   "execution_count": 5,
   "metadata": {
    "collapsed": false,
    "jupyter": {
     "outputs_hidden": false
    }
   },
   "outputs": [
    {
     "name": "stdout",
     "output_type": "stream",
     "text": [
      "****Alignment****\n",
      "sequence: gi|1835273124|gb|MT308984.1| Mutant SARS coronavirus Urbani clone SARS-Urbani-MA_SHC014-spike, complete genome\n",
      "length: 29730\n",
      "e value: 4.20981e-17\n",
      "ATATTAGGTTTTTACCTACCCAGGAAAAGCCAACCAACCTCGATCTCTTGTAGA\n",
      "||||||||||||||||||||||||||||||||||||||||||||||||||||||\n",
      "ATATTAGGTTTTTACCTACCCAGGAAAAGCCAACCAACCTCGATCTCTTGTAGA\n",
      "****Alignment****\n",
      "sequence: gi|1516405882|gb|MK062184.1| SARS coronavirus Urbani isolate icSARS-C7-MA, complete genome\n",
      "length: 29874\n",
      "e value: 4.20981e-17\n",
      "ATATTAGGTTTTTACCTACCCAGGAAAAGCCAACCAACCTCGATCTCTTGTAGA\n",
      "||||||||||||||||||||||||||||||||||||||||||||||||||||||\n",
      "ATATTAGGTTTTTACCTACCCAGGAAAAGCCAACCAACCTCGATCTCTTGTAGA\n",
      "****Alignment****\n",
      "sequence: gi|1516405867|gb|MK062183.1| SARS coronavirus Urbani isolate icSARS-C7, complete genome\n",
      "length: 29874\n",
      "e value: 4.20981e-17\n",
      "ATATTAGGTTTTTACCTACCCAGGAAAAGCCAACCAACCTCGATCTCTTGTAGA\n",
      "||||||||||||||||||||||||||||||||||||||||||||||||||||||\n",
      "ATATTAGGTTTTTACCTACCCAGGAAAAGCCAACCAACCTCGATCTCTTGTAGA\n",
      "****Alignment****\n",
      "sequence: gi|1516405852|gb|MK062182.1| SARS coronavirus Urbani isolate icSARS-C3-MA, complete genome\n",
      "length: 29727\n",
      "e value: 4.20981e-17\n",
      "ATATTAGGTTTTTACCTACCCAGGAAAAGCCAACCAACCTCGATCTCTTGTAGA\n",
      "||||||||||||||||||||||||||||||||||||||||||||||||||||||\n",
      "ATATTAGGTTTTTACCTACCCAGGAAAAGCCAACCAACCTCGATCTCTTGTAGA\n",
      "****Alignment****\n",
      "sequence: gi|1516405837|gb|MK062181.1| SARS coronavirus Urbani isolate icSARS-C3, complete genome\n",
      "length: 29727\n",
      "e value: 4.20981e-17\n",
      "ATATTAGGTTTTTACCTACCCAGGAAAAGCCAACCAACCTCGATCTCTTGTAGA\n",
      "||||||||||||||||||||||||||||||||||||||||||||||||||||||\n",
      "ATATTAGGTTTTTACCTACCCAGGAAAAGCCAACCAACCTCGATCTCTTGTAGA\n",
      "****Alignment****\n",
      "sequence: gi|1516405822|gb|MK062180.1| SARS coronavirus Urbani isolate icSARS-MA, complete genome\n",
      "length: 29727\n",
      "e value: 4.20981e-17\n",
      "ATATTAGGTTTTTACCTACCCAGGAAAAGCCAACCAACCTCGATCTCTTGTAGA\n",
      "||||||||||||||||||||||||||||||||||||||||||||||||||||||\n",
      "ATATTAGGTTTTTACCTACCCAGGAAAAGCCAACCAACCTCGATCTCTTGTAGA\n",
      "****Alignment****\n",
      "sequence: gi|1516405807|gb|MK062179.1| SARS coronavirus Urbani isolate icSARS, complete genome\n",
      "length: 29727\n",
      "e value: 4.20981e-17\n",
      "ATATTAGGTTTTTACCTACCCAGGAAAAGCCAACCAACCTCGATCTCTTGTAGA\n",
      "||||||||||||||||||||||||||||||||||||||||||||||||||||||\n",
      "ATATTAGGTTTTTACCTACCCAGGAAAAGCCAACCAACCTCGATCTCTTGTAGA\n",
      "****Alignment****\n",
      "sequence: gi|1270541521|gb|KY417152.1| Bat SARS-like coronavirus isolate Rs9401, complete genome\n",
      "length: 29769\n",
      "e value: 4.20981e-17\n",
      "ATATTAGGTTTTTACCTACCCAGGAAAAGCCAACCAACCTCGATCTCTTGTAGA\n",
      "||||||||||||||||||||||||||||||||||||||||||||||||||||||\n",
      "ATATTAGGTTTTTACCTACCCAGGAAAAGCCAACCAACCTCGATCTCTTGTAGA\n",
      "****Alignment****\n",
      "sequence: gi|1270541507|gb|KY417151.1| Bat SARS-like coronavirus isolate Rs7327, complete genome\n",
      "length: 30307\n",
      "e value: 4.20981e-17\n",
      "ATATTAGGTTTTTACCTACCCAGGAAAAGCCAACCAACCTCGATCTCTTGTAGA\n",
      "||||||||||||||||||||||||||||||||||||||||||||||||||||||\n",
      "ATATTAGGTTTTTACCTACCCAGGAAAAGCCAACCAACCTCGATCTCTTGTAGA\n",
      "****Alignment****\n",
      "sequence: gi|1270541493|gb|KY417150.1| Bat SARS-like coronavirus isolate Rs4874, complete genome\n",
      "length: 30311\n",
      "e value: 4.20981e-17\n",
      "ATATTAGGTTTTTACCTACCCAGGAAAAGCCAACCAACCTCGATCTCTTGTAGA\n",
      "||||||||||||||||||||||||||||||||||||||||||||||||||||||\n",
      "ATATTAGGTTTTTACCTACCCAGGAAAAGCCAACCAACCTCGATCTCTTGTAGA\n",
      "****Alignment****\n",
      "sequence: gi|1270541480|gb|KY417149.1| Bat SARS-like coronavirus isolate Rs4255, complete genome\n",
      "length: 29743\n",
      "e value: 4.20981e-17\n",
      "ATATTAGGTTTTTACCTACCCAGGAAAAGCCAACCAACCTCGATCTCTTGTAGA\n",
      "||||||||||||||||||||||||||||||||||||||||||||||||||||||\n",
      "ATATTAGGTTTTTACCTACCCAGGAAAAGCCAACCAACCTCGATCTCTTGTAGA\n",
      "****Alignment****\n",
      "sequence: gi|1270541467|gb|KY417148.1| Bat SARS-like coronavirus isolate Rs4247, complete genome\n",
      "length: 29743\n",
      "e value: 4.20981e-17\n",
      "ATATTAGGTTTTTACCTACCCAGGAAAAGCCAACCAACCTCGATCTCTTGTAGA\n",
      "||||||||||||||||||||||||||||||||||||||||||||||||||||||\n",
      "ATATTAGGTTTTTACCTACCCAGGAAAAGCCAACCAACCTCGATCTCTTGTAGA\n",
      "****Alignment****\n",
      "sequence: gi|1270541454|gb|KY417147.1| Bat SARS-like coronavirus isolate Rs4237, complete genome\n",
      "length: 29741\n",
      "e value: 4.20981e-17\n",
      "ATATTAGGTTTTTACCTACCCAGGAAAAGCCAACCAACCTCGATCTCTTGTAGA\n",
      "||||||||||||||||||||||||||||||||||||||||||||||||||||||\n",
      "ATATTAGGTTTTTACCTACCCAGGAAAAGCCAACCAACCTCGATCTCTTGTAGA\n",
      "****Alignment****\n",
      "sequence: gi|1270541441|gb|KY417146.1| Bat SARS-like coronavirus isolate Rs4231, complete genome\n",
      "length: 29782\n",
      "e value: 4.20981e-17\n",
      "ATATTAGGTTTTTACCTACCCAGGAAAAGCCAACCAACCTCGATCTCTTGTAGA\n",
      "||||||||||||||||||||||||||||||||||||||||||||||||||||||\n",
      "ATATTAGGTTTTTACCTACCCAGGAAAAGCCAACCAACCTCGATCTCTTGTAGA\n",
      "****Alignment****\n",
      "sequence: gi|1270541428|gb|KY417145.1| Bat SARS-like coronavirus isolate Rf4092, complete genome\n",
      "length: 29710\n",
      "e value: 4.20981e-17\n",
      "ATATTAGGTTTTTACCTACCCAGGAAAAGCCAACCAACCTCGATCTCTTGTAGA\n",
      "||||||||||||||||||||||||||||||||||||||||||||||||||||||\n",
      "ATATTAGGTTTTTACCTACCCAGGAAAAGCCAACCAACCTCGATCTCTTGTAGA\n",
      "****Alignment****\n",
      "sequence: gi|1270541414|gb|KY417144.1| Bat SARS-like coronavirus isolate Rs4084, complete genome\n",
      "length: 29770\n",
      "e value: 4.20981e-17\n",
      "ATATTAGGTTTTTACCTACCCAGGAAAAGCCAACCAACCTCGATCTCTTGTAGA\n",
      "||||||||||||||||||||||||||||||||||||||||||||||||||||||\n",
      "ATATTAGGTTTTTACCTACCCAGGAAAAGCCAACCAACCTCGATCTCTTGTAGA\n",
      "****Alignment****\n",
      "sequence: gi|1270541401|gb|KY417143.1| Bat SARS-like coronavirus isolate Rs4081, complete genome\n",
      "length: 29741\n",
      "e value: 4.20981e-17\n",
      "ATATTAGGTTTTTACCTACCCAGGAAAAGCCAACCAACCTCGATCTCTTGTAGA\n",
      "||||||||||||||||||||||||||||||||||||||||||||||||||||||\n",
      "ATATTAGGTTTTTACCTACCCAGGAAAAGCCAACCAACCTCGATCTCTTGTAGA\n",
      "****Alignment****\n",
      "sequence: gi|1270541388|gb|KY417142.1| Bat SARS-like coronavirus isolate As6526, complete genome\n",
      "length: 29725\n",
      "e value: 4.20981e-17\n",
      "ATATTAGGTTTTTACCTACCCAGGAAAAGCCAACCAACCTCGATCTCTTGTAGA\n",
      "||||||||||||||||||||||||||||||||||||||||||||||||||||||\n",
      "ATATTAGGTTTTTACCTACCCAGGAAAAGCCAACCAACCTCGATCTCTTGTAGA\n",
      "****Alignment****\n",
      "sequence: gi|1220516375|gb|KY938558.1| Sarbecovirus sp. strain 16BO133, complete genome\n",
      "length: 29075\n",
      "e value: 4.20981e-17\n",
      "ATATTAGGTTTTTACCTACCCAGGAAAAGCCAACCAACCTCGATCTCTTGTAGA\n",
      "||||||||||||||||||||||||||||||||||||||||||||||||||||||\n",
      "ATATTAGGTTTTTACCTACCCAGGAAAAGCCAACCAACCTCGATCTCTTGTAGA\n",
      "****Alignment****\n",
      "sequence: gi|1023043583|gb|KU182964.1| Sarbecovirus sp. isolate JTMC15, complete genome\n",
      "length: 28761\n",
      "e value: 4.20981e-17\n",
      "ATATTAGGTTTTTACCTACCCAGGAAAAGCCAACCAACCTCGATCTCTTGTAGA\n",
      "||||||||||||||||||||||||||||||||||||||||||||||||||||||\n",
      "ATATTAGGTTTTTACCTACCCAGGAAAAGCCAACCAACCTCGATCTCTTGTAGA\n",
      "****Alignment****\n",
      "sequence: gi|940378824|gb|KT444582.1| SARS-like coronavirus WIV16, complete genome\n",
      "length: 30290\n",
      "e value: 4.20981e-17\n",
      "ATATTAGGTTTTTACCTACCCAGGAAAAGCCAACCAACCTCGATCTCTTGTAGA\n",
      "||||||||||||||||||||||||||||||||||||||||||||||||||||||\n",
      "ATATTAGGTTTTTACCTACCCAGGAAAAGCCAACCAACCTCGATCTCTTGTAGA\n",
      "****Alignment****\n",
      "sequence: gi|2443271041|gb|OQ297704.1| MAG: Severe acute respiratory syndrome-related coronavirus isolate SC/L75.18/2021, complete genome\n",
      "length: 29696\n",
      "e value: 4.20981e-17\n",
      "ATATTAGGTTTTTACCTACCCAGGAAAAGCCAACCAACCTCGATCTCTTGTAGA\n",
      "||||||||||||||||||||||||||||||||||||||||||||||||||||||\n",
      "ATATTAGGTTTTTACCTACCCAGGAAAAGCCAACCAACCTCGATCTCTTGTAGA\n",
      "****Alignment****\n",
      "sequence: gi|916354756|gb|KP886809.1| Bat SARS-like coronavirus YNLF_34C, complete genome\n",
      "length: 29723\n",
      "e value: 4.20981e-17\n",
      "ATATTAGGTTTTTACCTACCCAGGAAAAGCCAACCAACCTCGATCTCTTGTAGA\n",
      "||||||||||||||||||||||||||||||||||||||||||||||||||||||\n",
      "ATATTAGGTTTTTACCTACCCAGGAAAAGCCAACCAACCTCGATCTCTTGTAGA\n",
      "****Alignment****\n",
      "sequence: gi|916354744|gb|KP886808.1| Bat SARS-like coronavirus YNLF_31C, complete genome\n",
      "length: 29723\n",
      "e value: 4.20981e-17\n",
      "ATATTAGGTTTTTACCTACCCAGGAAAAGCCAACCAACCTCGATCTCTTGTAGA\n",
      "||||||||||||||||||||||||||||||||||||||||||||||||||||||\n",
      "ATATTAGGTTTTTACCTACCCAGGAAAAGCCAACCAACCTCGATCTCTTGTAGA\n",
      "****Alignment****\n",
      "sequence: gi|2429086651|gb|OP963575.1| Bat SARS-like virus BtSY1 ORF1ab polyprotein (ORF1ab), ORF1a protein (ORF1ab), spike glycoprotein, ORF3a protein, ORF3b protein, envelope protein, membrane glycoprotein M, ORF6 protein, ORF7a protein, ORF7b protein, ORF8 protein, nucleocapsid protein, and ORF10 protein genes, complete cds\n",
      "length: 29756\n",
      "e value: 4.20981e-17\n",
      "ATATTAGGTTTTTACCTACCCAGGAAAAGCCAACCAACCTCGATCTCTTGTAGA\n",
      "||||||||||||||||||||||||||||||||||||||||||||||||||||||\n",
      "ATATTAGGTTTTTACCTACCCAGGAAAAGCCAACCAACCTCGATCTCTTGTAGA\n",
      "****Alignment****\n",
      "sequence: gi|656462529|gb|KF294457.1| Bat SARS-like coronavirus isolate Longquan-140 orf1ab polyprotein, spike glycoprotein, envelope protein, membrane protein, and nucleocapsid protein genes, complete cds\n",
      "length: 29676\n",
      "e value: 4.20981e-17\n",
      "ATATTAGGTTTTTACCTACCCAGGAAAAGCCAACCAACCTCGATCTCTTGTAGA\n",
      "||||||||||||||||||||||||||||||||||||||||||||||||||||||\n",
      "ATATTAGGTTTTTACCTACCCAGGAAAAGCCAACCAACCTCGATCTCTTGTAGA\n",
      "****Alignment****\n",
      "sequence: gi|556015114|gb|KC881005.1| Bat SARS-like coronavirus RsSHC014, complete genome\n",
      "length: 29787\n",
      "e value: 4.20981e-17\n",
      "ATATTAGGTTTTTACCTACCCAGGAAAAGCCAACCAACCTCGATCTCTTGTAGA\n",
      "||||||||||||||||||||||||||||||||||||||||||||||||||||||\n",
      "ATATTAGGTTTTTACCTACCCAGGAAAAGCCAACCAACCTCGATCTCTTGTAGA\n",
      "****Alignment****\n",
      "sequence: gi|387912994|gb|JN854286.1| SARS coronavirus HKU-39849 isolate recSARS-CoV HKU-39849, complete genome\n",
      "length: 29727\n",
      "e value: 4.20981e-17\n",
      "ATATTAGGTTTTTACCTACCCAGGAAAAGCCAACCAACCTCGATCTCTTGTAGA\n",
      "||||||||||||||||||||||||||||||||||||||||||||||||||||||\n",
      "ATATTAGGTTTTTACCTACCCAGGAAAAGCCAACCAACCTCGATCTCTTGTAGA\n",
      "****Alignment****\n",
      "sequence: gi|380452611|gb|JQ316196.1| SARS coronavirus HKU-39849 isolate UOB, complete genome\n",
      "length: 29727\n",
      "e value: 4.20981e-17\n",
      "ATATTAGGTTTTTACCTACCCAGGAAAAGCCAACCAACCTCGATCTCTTGTAGA\n",
      "||||||||||||||||||||||||||||||||||||||||||||||||||||||\n",
      "ATATTAGGTTTTTACCTACCCAGGAAAAGCCAACCAACCTCGATCTCTTGTAGA\n",
      "****Alignment****\n",
      "sequence: gi|172044030|gb|EU371564.1| SARS coronavirus BJ182-12, complete genome\n",
      "length: 29512\n",
      "e value: 4.20981e-17\n",
      "ATATTAGGTTTTTACCTACCCAGGAAAAGCCAACCAACCTCGATCTCTTGTAGA\n",
      "||||||||||||||||||||||||||||||||||||||||||||||||||||||\n",
      "ATATTAGGTTTTTACCTACCCAGGAAAAGCCAACCAACCTCGATCTCTTGTAGA\n",
      "****Alignment****\n",
      "sequence: gi|172044018|gb|EU371563.1| SARS coronavirus BJ182-8, complete genome\n",
      "length: 29602\n",
      "e value: 4.20981e-17\n",
      "ATATTAGGTTTTTACCTACCCAGGAAAAGCCAACCAACCTCGATCTCTTGTAGA\n",
      "||||||||||||||||||||||||||||||||||||||||||||||||||||||\n",
      "ATATTAGGTTTTTACCTACCCAGGAAAAGCCAACCAACCTCGATCTCTTGTAGA\n",
      "****Alignment****\n",
      "sequence: gi|172044006|gb|EU371562.1| SARS coronavirus BJ182-4, complete genome\n",
      "length: 29602\n",
      "e value: 4.20981e-17\n",
      "ATATTAGGTTTTTACCTACCCAGGAAAAGCCAACCAACCTCGATCTCTTGTAGA\n",
      "||||||||||||||||||||||||||||||||||||||||||||||||||||||\n",
      "ATATTAGGTTTTTACCTACCCAGGAAAAGCCAACCAACCTCGATCTCTTGTAGA\n",
      "****Alignment****\n",
      "sequence: gi|172043994|gb|EU371561.1| SARS coronavirus BJ182b, complete genome\n",
      "length: 29602\n",
      "e value: 4.20981e-17\n",
      "ATATTAGGTTTTTACCTACCCAGGAAAAGCCAACCAACCTCGATCTCTTGTAGA\n",
      "||||||||||||||||||||||||||||||||||||||||||||||||||||||\n",
      "ATATTAGGTTTTTACCTACCCAGGAAAAGCCAACCAACCTCGATCTCTTGTAGA\n",
      "****Alignment****\n",
      "sequence: gi|172043981|gb|EU371560.1| SARS coronavirus BJ182a, complete genome\n",
      "length: 29731\n",
      "e value: 4.20981e-17\n",
      "ATATTAGGTTTTTACCTACCCAGGAAAAGCCAACCAACCTCGATCTCTTGTAGA\n",
      "||||||||||||||||||||||||||||||||||||||||||||||||||||||\n",
      "ATATTAGGTTTTTACCTACCCAGGAAAAGCCAACCAACCTCGATCTCTTGTAGA\n",
      "****Alignment****\n",
      "sequence: gi|172043969|gb|EU371559.1| SARS coronavirus ZJ02, complete genome\n",
      "length: 29731\n",
      "e value: 4.20981e-17\n",
      "ATATTAGGTTTTTACCTACCCAGGAAAAGCCAACCAACCTCGATCTCTTGTAGA\n",
      "||||||||||||||||||||||||||||||||||||||||||||||||||||||\n",
      "ATATTAGGTTTTTACCTACCCAGGAAAAGCCAACCAACCTCGATCTCTTGTAGA\n",
      "****Alignment****\n",
      "sequence: gi|213990598|gb|FJ429166.1| Recombinant SARS coronavirus, complete sequence\n",
      "length: 29747\n",
      "e value: 4.20981e-17\n",
      "ATATTAGGTTTTTACCTACCCAGGAAAAGCCAACCAACCTCGATCTCTTGTAGA\n",
      "||||||||||||||||||||||||||||||||||||||||||||||||||||||\n",
      "ATATTAGGTTTTTACCTACCCAGGAAAAGCCAACCAACCTCGATCTCTTGTAGA\n",
      "****Alignment****\n",
      "sequence: gi|115392313|gb|DQ898174.1| SARS coronavirus strain CV7, complete genome\n",
      "length: 29751\n",
      "e value: 4.20981e-17\n",
      "ATATTAGGTTTTTACCTACCCAGGAAAAGCCAACCAACCTCGATCTCTTGTAGA\n",
      "||||||||||||||||||||||||||||||||||||||||||||||||||||||\n",
      "ATATTAGGTTTTTACCTACCCAGGAAAAGCCAACCAACCTCGATCTCTTGTAGA\n",
      "****Alignment****\n",
      "sequence: gi|109893923|gb|DQ648856.1| Bat coronavirus (BtCoV/273/2005), complete genome\n",
      "length: 29704\n",
      "e value: 4.20981e-17\n",
      "ATATTAGGTTTTTACCTACCCAGGAAAAGCCAACCAACCTCGATCTCTTGTAGA\n",
      "||||||||||||||||||||||||||||||||||||||||||||||||||||||\n",
      "ATATTAGGTTTTTACCTACCCAGGAAAAGCCAACCAACCTCGATCTCTTGTAGA\n",
      "****Alignment****\n",
      "sequence: gi|89514824|gb|DQ412043.1| Bat SARS coronavirus Rm1, complete genome\n",
      "length: 29749\n",
      "e value: 4.20981e-17\n",
      "ATATTAGGTTTTTACCTACCCAGGAAAAGCCAACCAACCTCGATCTCTTGTAGA\n",
      "||||||||||||||||||||||||||||||||||||||||||||||||||||||\n",
      "ATATTAGGTTTTTACCTACCCAGGAAAAGCCAACCAACCTCGATCTCTTGTAGA\n",
      "****Alignment****\n",
      "sequence: gi|89514809|gb|DQ412042.1| Bat SARS coronavirus Rf1, complete genome\n",
      "length: 29709\n",
      "e value: 4.20981e-17\n",
      "ATATTAGGTTTTTACCTACCCAGGAAAAGCCAACCAACCTCGATCTCTTGTAGA\n",
      "||||||||||||||||||||||||||||||||||||||||||||||||||||||\n",
      "ATATTAGGTTTTTACCTACCCAGGAAAAGCCAACCAACCTCGATCTCTTGTAGA\n",
      "****Alignment****\n",
      "sequence: gi|67003775|gb|AY864806.1| SARS coronavirus BJ202, complete genome\n",
      "length: 29751\n",
      "e value: 4.20981e-17\n",
      "ATATTAGGTTTTTACCTACCCAGGAAAAGCCAACCAACCTCGATCTCTTGTAGA\n",
      "||||||||||||||||||||||||||||||||||||||||||||||||||||||\n",
      "ATATTAGGTTTTTACCTACCCAGGAAAAGCCAACCAACCTCGATCTCTTGTAGA\n",
      "****Alignment****\n",
      "sequence: gi|67003761|gb|AY864805.1| SARS coronavirus BJ162, complete genome\n",
      "length: 29751\n",
      "e value: 4.20981e-17\n",
      "ATATTAGGTTTTTACCTACCCAGGAAAAGCCAACCAACCTCGATCTCTTGTAGA\n",
      "||||||||||||||||||||||||||||||||||||||||||||||||||||||\n",
      "ATATTAGGTTTTTACCTACCCAGGAAAAGCCAACCAACCTCGATCTCTTGTAGA\n",
      "****Alignment****\n",
      "sequence: gi|99078934|gb|DQ497008.1| SARS coronavirus strain MA-15, complete genome\n",
      "length: 29727\n",
      "e value: 4.20981e-17\n",
      "ATATTAGGTTTTTACCTACCCAGGAAAAGCCAACCAACCTCGATCTCTTGTAGA\n",
      "||||||||||||||||||||||||||||||||||||||||||||||||||||||\n",
      "ATATTAGGTTTTTACCTACCCAGGAAAAGCCAACCAACCTCGATCTCTTGTAGA\n",
      "****Alignment****\n",
      "sequence: gi|40795428|gb|AY394850.2| SARS coronavirus WHU, complete genome\n",
      "length: 29728\n",
      "e value: 4.20981e-17\n",
      "ATATTAGGTTTTTACCTACCCAGGAAAAGCCAACCAACCTCGATCTCTTGTAGA\n",
      "||||||||||||||||||||||||||||||||||||||||||||||||||||||\n",
      "ATATTAGGTTTTTACCTACCCAGGAAAAGCCAACCAACCTCGATCTCTTGTAGA\n",
      "****Alignment****\n",
      "sequence: gi|33411459|dbj|AP006561.1| SARS coronavirus TWY genomic RNA, complete genome\n",
      "length: 29727\n",
      "e value: 4.20981e-17\n",
      "ATATTAGGTTTTTACCTACCCAGGAAAAGCCAACCAACCTCGATCTCTTGTAGA\n",
      "||||||||||||||||||||||||||||||||||||||||||||||||||||||\n",
      "ATATTAGGTTTTTACCTACCCAGGAAAAGCCAACCAACCTCGATCTCTTGTAGA\n",
      "****Alignment****\n",
      "sequence: gi|33411444|dbj|AP006560.1| SARS coronavirus TWS genomic RNA, complete genome\n",
      "length: 29727\n",
      "e value: 4.20981e-17\n",
      "ATATTAGGTTTTTACCTACCCAGGAAAAGCCAACCAACCTCGATCTCTTGTAGA\n",
      "||||||||||||||||||||||||||||||||||||||||||||||||||||||\n",
      "ATATTAGGTTTTTACCTACCCAGGAAAAGCCAACCAACCTCGATCTCTTGTAGA\n",
      "****Alignment****\n",
      "sequence: gi|33411429|dbj|AP006559.1| SARS coronavirus TWK genomic RNA, complete genome\n",
      "length: 29727\n",
      "e value: 4.20981e-17\n",
      "ATATTAGGTTTTTACCTACCCAGGAAAAGCCAACCAACCTCGATCTCTTGTAGA\n",
      "||||||||||||||||||||||||||||||||||||||||||||||||||||||\n",
      "ATATTAGGTTTTTACCTACCCAGGAAAAGCCAACCAACCTCGATCTCTTGTAGA\n",
      "****Alignment****\n",
      "sequence: gi|33411414|dbj|AP006558.1| SARS coronavirus TWJ genomic RNA, complete genome\n",
      "length: 29725\n",
      "e value: 4.20981e-17\n",
      "ATATTAGGTTTTTACCTACCCAGGAAAAGCCAACCAACCTCGATCTCTTGTAGA\n",
      "||||||||||||||||||||||||||||||||||||||||||||||||||||||\n",
      "ATATTAGGTTTTTACCTACCCAGGAAAAGCCAACCAACCTCGATCTCTTGTAGA\n",
      "****Alignment****\n",
      "sequence: gi|33411399|dbj|AP006557.1| SARS coronavirus TWH genomic RNA, complete genome >gi|33518724|gb|AY362698.1| SARS coronavirus TWC2, complete genome\n",
      "length: 29727\n",
      "e value: 4.20981e-17\n",
      "ATATTAGGTTTTTACCTACCCAGGAAAAGCCAACCAACCTCGATCTCTTGTAGA\n",
      "||||||||||||||||||||||||||||||||||||||||||||||||||||||\n",
      "ATATTAGGTTTTTACCTACCCAGGAAAAGCCAACCAACCTCGATCTCTTGTAGA\n",
      "****Alignment****\n",
      "sequence: gi|60267744|gb|AY772062.1| SARS coronavirus WH20, complete genome\n",
      "length: 29461\n",
      "e value: 4.20981e-17\n",
      "ATATTAGGTTTTTACCTACCCAGGAAAAGCCAACCAACCTCGATCTCTTGTAGA\n",
      "||||||||||||||||||||||||||||||||||||||||||||||||||||||\n",
      "ATATTAGGTTTTTACCTACCCAGGAAAAGCCAACCAACCTCGATCTCTTGTAGA\n"
     ]
    }
   ],
   "source": [
    "E_VALUE_THRESH = 0.01\n",
    "for alignment in blast_record.alignments:\n",
    "    for hsp in alignment.hsps:\n",
    "        if hsp.expect < E_VALUE_THRESH:\n",
    "            print('****Alignment****')\n",
    "            print('sequence:', alignment.title)\n",
    "            print('length:', alignment.length)\n",
    "            print('e value:', hsp.expect)\n",
    "            print(hsp.query)\n",
    "            print(hsp.match)\n",
    "            print(hsp.sbjct)"
   ]
  },
  {
   "cell_type": "markdown",
   "metadata": {},
   "source": [
    "# Conexión base de datos:"
   ]
  },
  {
   "cell_type": "code",
   "execution_count": 8,
   "metadata": {
    "tags": []
   },
   "outputs": [],
   "source": [
    "from Bio import Entrez\n",
    "Entrez.email='jennifervs.bio@gmail.com'"
   ]
  },
  {
   "cell_type": "code",
   "execution_count": 63,
   "metadata": {
    "collapsed": false,
    "jupyter": {
     "outputs_hidden": false
    }
   },
   "outputs": [
    {
     "data": {
      "text/plain": [
       "['1324583', '1317489', '1264353', '984533', '981606', '981554', '978769', '978768', '978767', '978766', '978765', '978764', '978763', '978762', '978761', '978760', '978759', '978758', '978757', '978756']"
      ]
     },
     "execution_count": 63,
     "metadata": {},
     "output_type": "execute_result"
    }
   ],
   "source": [
    "handle = Entrez.esearch(db=\"clinvar\", term=\"cardio\")\n",
    "record = Entrez.read(handle)\n",
    "record[\"IdList\"]"
   ]
  },
  {
   "cell_type": "code",
   "execution_count": 64,
   "metadata": {},
   "outputs": [],
   "source": [
    "ID = record[\"IdList\"][0]\n",
    "ID2 = record[\"IdList\"][2]"
   ]
  },
  {
   "cell_type": "code",
   "execution_count": 65,
   "metadata": {
    "collapsed": false,
    "jupyter": {
     "outputs_hidden": false
    },
    "scrolled": true
   },
   "outputs": [
    {
     "name": "stdout",
     "output_type": "stream",
     "text": [
      "ID: W41283.1\n",
      "Name: W41283\n",
      "Description: mc44b08.r1 Soares mouse p3NMF19.5 Mus musculus cDNA clone IMAGE:351351 5', mRNA sequence\n",
      "Database cross-references: BioSample:SAMN00155042\n",
      "Number of features: 1\n",
      "/molecule_type=mRNA\n",
      "/topology=linear\n",
      "/data_file_division=EST\n",
      "/date=11-SEP-1996\n",
      "/accessions=['W41283']\n",
      "/sequence_version=1\n",
      "/keywords=['EST']\n",
      "/source=Mus musculus (house mouse)\n",
      "/organism=Mus musculus\n",
      "/taxonomy=['Eukaryota', 'Metazoa', 'Chordata', 'Craniata', 'Vertebrata', 'Euteleostomi', 'Mammalia', 'Eutheria', 'Euarchontoglires', 'Glires', 'Rodentia', 'Myomorpha', 'Muroidea', 'Muridae', 'Murinae', 'Mus', 'Mus']\n",
      "/references=[Reference(title='The WashU-HHMI Mouse EST Project', ...)]\n",
      "/comment=Contact: Marra M/Mouse EST Project\n",
      "WashU-HHMI Mouse EST Project\n",
      "Washington University School of MedicineP\n",
      "4444 Forest Park Parkway, Box 8501, St. Louis, MO 63108\n",
      "Tel: 314 286 1800\n",
      "Fax: 314 286 1810\n",
      "Email: mouseest@watson.wustl.edu\n",
      "This clone is available royalty-free through LLNL ; contact the\n",
      "IMAGE Consortium (info@image.llnl.gov) for further information.\n",
      "MGI:223151\n",
      "Seq primer: ETPrimer\n",
      "High quality sequence stop: 435.\n",
      "Seq('CTGTCAGTGAAGAGATTTTACATTGGGACAGTTGTAGGAAGTACGTCTCTAGCA...TTT')\n"
     ]
    }
   ],
   "source": [
    "from Bio import Entrez, SeqIO\n",
    "handle = Entrez.efetch(db=\"nucleotide\", id= ID, rettype=\"gb\", retmode=\"text\")\n",
    "record = SeqIO.read(handle, \"genbank\")\n",
    "SeqIO.write(record,ID,\"genbank\")\n",
    "handle.close()\n",
    "print(record)"
   ]
  },
  {
   "cell_type": "code",
   "execution_count": 66,
   "metadata": {},
   "outputs": [
    {
     "name": "stdout",
     "output_type": "stream",
     "text": [
      "ID: N92044.1\n",
      "Name: N92044\n",
      "Description: za23b06.r1 Soares fetal liver spleen 1NFLS Homo sapiens cDNA clone IMAGE:293363 5', mRNA sequence\n",
      "Database cross-references: BioSample:SAMN00154876\n",
      "Number of features: 1\n",
      "/molecule_type=mRNA\n",
      "/topology=linear\n",
      "/data_file_division=EST\n",
      "/date=04-APR-1996\n",
      "/accessions=['N92044']\n",
      "/sequence_version=1\n",
      "/keywords=['EST']\n",
      "/source=Homo sapiens (human)\n",
      "/organism=Homo sapiens\n",
      "/taxonomy=['Eukaryota', 'Metazoa', 'Chordata', 'Craniata', 'Vertebrata', 'Euteleostomi', 'Mammalia', 'Eutheria', 'Euarchontoglires', 'Primates', 'Haplorrhini', 'Catarrhini', 'Hominidae', 'Homo']\n",
      "/references=[Reference(title='The WashU-Merck EST Project', ...)]\n",
      "/comment=Contact: Wilson RK\n",
      "Washington University School of Medicine\n",
      "4444 Forest Park Parkway, Box 8501, St. Louis, MO 63108\n",
      "Tel: 314 286 1800\n",
      "Fax: 314 286 1810\n",
      "Email: est@watson.wustl.edu\n",
      "This clone is available royalty-free through LLNL ; contact the\n",
      "IMAGE Consortium (info@image.llnl.gov) for further information.\n",
      "Seq primer: mob.REGA+ET\n",
      "High quality sequence stop: 369.\n",
      "Seq('CAGNGAACTACTGGCTACCTTGACAAGCTGGGTAAATAGTTATCATTCTGGGTA...GAA')\n"
     ]
    }
   ],
   "source": [
    "handle = Entrez.efetch(db=\"nucleotide\", id= ID2, rettype=\"gb\", retmode=\"text\")\n",
    "record = SeqIO.read(handle, \"genbank\")\n",
    "SeqIO.write(record,ID2,\"genbank\")\n",
    "handle.close()\n",
    "print(record)"
   ]
  },
  {
   "cell_type": "code",
   "execution_count": 67,
   "metadata": {},
   "outputs": [
    {
     "name": "stdout",
     "output_type": "stream",
     "text": [
      ">W41283.1 mc44b08.r1 Soares mouse p3NMF19.5 Mus musculus cDNA clone IMAGE:351351 5', mRNA sequence\n",
      "CTGTCAGTGAAGAGATTTTACATTGGGACAGTTGTAGGAAGTACGTCTCTAGCATACTGC\n",
      "ACGGCTTCATGGTTCCTGCTTGGGCAGAATCTTTCACTTACAGTAAGACTCGACCTTTGT\n",
      "GAGGCAACACTAACCATTTGCCCTAAGATTTTTTTTTAGCAAAGTTTATTATTTCCATAT\n",
      "ATCAAATGGGGGTAATTATGCTTTGTGAAGTAGGGATTAAATGAAGGGAAAACTACAGAG\n",
      "GCGGCTGCGAGAAGGATGAGTGTGCGCACACCTGTCAGTAAACAGTTGGTCAACCGTAGG\n",
      "ANCAGGACCAAACGCCTTTGTTAAATAAAGAATCCTGCAGGTGAAGGTTTTTTAGTCAGT\n",
      "TAGTGAACTGAAGAGGTGAGGCTCAGAGTTTTACCTTTACTTTACTTGAGGTGAGTTTGT\n",
      "TAACAAACAAACACAACAAAAACCTTT\n",
      "\n"
     ]
    }
   ],
   "source": [
    "mito_record = SeqIO.read(ID, \"genbank\")\n",
    "print(mito_record.format(\"fasta\"))"
   ]
  },
  {
   "cell_type": "code",
   "execution_count": 71,
   "metadata": {},
   "outputs": [
    {
     "name": "stdout",
     "output_type": "stream",
     "text": [
      ">N92044.1 za23b06.r1 Soares fetal liver spleen 1NFLS Homo sapiens cDNA clone IMAGE:293363 5', mRNA sequence\n",
      "CAGNGAACTACTGGCTACCTTGACAAGCTGGGTAAATAGTTATCATTCTGGGTAACTGGT\n",
      "TGAAACTCTGACTTTTGGACAAGTAATTCCTGGGGTTCTGTCTTTGGTAGCATCACCAGG\n",
      "GATATTTGGGTGGGACAGACAGAAGACACACAGCTGCCTGTTCTCTCCTGCCCATCATGT\n",
      "TTCGGCCCACTAGATGAAGCTGTACTCAGCAATTTAGGGAATGTAACCCTTCTCAGAACT\n",
      "GGCCATTTTCAGGGGAAGCTTGGGAGAGCAATAGTATGGTGAGCCCCTTAGAGATGAGCG\n",
      "CCTACTCCTTCTTGGCGAATGCTGCCTTCAGATGCTTACCAAGTGGTCACTGCATCTAGT\n",
      "AAGATTATATTTCCAGTACACTTCCTTAGGGCAGAAACACCATCCTATCAGGTTTGGTCA\n",
      "GTCCCTTCTTCATGAA\n",
      "\n"
     ]
    }
   ],
   "source": [
    "mito_record2 = SeqIO.read(ID2 ,\"genbank\")\n",
    "print(mito_record2.format(\"fasta\"))"
   ]
  },
  {
   "cell_type": "code",
   "execution_count": 87,
   "metadata": {},
   "outputs": [
    {
     "name": "stdout",
     "output_type": "stream",
     "text": [
      ">N92044.1 za23b06.r1 Soares fetal liver spleen 1NFLS Homo sapiens cDNA clone IMAGE:293363 5', mRNA sequence\n",
      "CAGNGAACTACTGGCTACCTTGACAAGCTGGGTAAATAGTTATCATTCTGGGTAACTGGT\n",
      "TGAAACTCTGACTTTTGGACAAGTAATTCCTGGGGTTCTGTCTTTGGTAGCATCACCAGG\n",
      "GATATTTGGGTGGGACAGACAGAAGACACACAGCTGCCTGTTCTCTCCTGCCCATCATGT\n",
      "TTCGGCCCACTAGATGAAGCTGTACTCAGCAATTTAGGGAATGTAACCCTTCTCAGAACT\n",
      "GGCCATTTTCAGGGGAAGCTTGGGAGAGCAATAGTATGGTGAGCCCCTTAGAGATGAGCG\n",
      "CCTACTCCTTCTTGGCGAATGCTGCCTTCAGATGCTTACCAAGTGGTCACTGCATCTAGT\n",
      "AAGATTATATTTCCAGTACACTTCCTTAGGGCAGAAACACCATCCTATCAGGTTTGGTCA\n",
      "GTCCCTTCTTCATGAA\n",
      "\n"
     ]
    }
   ],
   "source": [
    "fasta1 = print(mito_record.format(\"fasta\"))"
   ]
  },
  {
   "cell_type": "code",
   "execution_count": 96,
   "metadata": {},
   "outputs": [],
   "source": [
    "A= mito_record2.format(\"fasta\")"
   ]
  },
  {
   "cell_type": "code",
   "execution_count": 97,
   "metadata": {},
   "outputs": [
    {
     "data": {
      "text/plain": [
       "\">N92044.1 za23b06.r1 Soares fetal liver spleen 1NFLS Homo sapiens cDNA clone IMAGE:293363 5', mRNA sequence\\nCAGNGAACTACTGGCTACCTTGACAAGCTGGGTAAATAGTTATCATTCTGGGTAACTGGT\\nTGAAACTCTGACTTTTGGACAAGTAATTCCTGGGGTTCTGTCTTTGGTAGCATCACCAGG\\nGATATTTGGGTGGGACAGACAGAAGACACACAGCTGCCTGTTCTCTCCTGCCCATCATGT\\nTTCGGCCCACTAGATGAAGCTGTACTCAGCAATTTAGGGAATGTAACCCTTCTCAGAACT\\nGGCCATTTTCAGGGGAAGCTTGGGAGAGCAATAGTATGGTGAGCCCCTTAGAGATGAGCG\\nCCTACTCCTTCTTGGCGAATGCTGCCTTCAGATGCTTACCAAGTGGTCACTGCATCTAGT\\nAAGATTATATTTCCAGTACACTTCCTTAGGGCAGAAACACCATCCTATCAGGTTTGGTCA\\nGTCCCTTCTTCATGAA\\n\""
      ]
     },
     "execution_count": 97,
     "metadata": {},
     "output_type": "execute_result"
    }
   ],
   "source": [
    "A"
   ]
  },
  {
   "cell_type": "code",
   "execution_count": 101,
   "metadata": {},
   "outputs": [
    {
     "name": "stdout",
     "output_type": "stream",
     "text": [
      ">N92044.1 za23b06.r1 Soares fetal liver spleen 1NFLS Homo sapiens cDNA clone IMAGE:293363 5', mRNA sequence\n",
      "CAGNGAACUACUGGCUACCUUGACAAGCUGGGUAAAUAGUUAUCAUUCUGGGUAACUGGU\n",
      "UGAAACUCUGACUUUUGGACAAGUAAUUCCUGGGGUUCUGUCUUUGGUAGCAUCACCAGG\n",
      "GAUAUUUGGGUGGGACAGACAGAAGACACACAGCUGCCUGUUCUCUCCUGCCCAUCAUGU\n",
      "UUCGGCCCACUAGAUGAAGCUGUACUCAGCAAUUUAGGGAAUGUAACCCUUCUCAGAACU\n",
      "GGCCAUUUUCAGGGGAAGCUUGGGAGAGCAAUAGUAUGGUGAGCCCCUUAGAGAUGAGCG\n",
      "CCUACUCCUUCUUGGCGAAUGCUGCCUUCAGAUGCUUACCAAGUGGUCACUGCAUCUAGU\n",
      "AAGAUUAUAUUUCCAGUACACUUCCUUAGGGCAGAAACACCAUCCUAUCAGGUUUGGUCA\n",
      "GUCCCUUCUUCAUGAA\n",
      "\n"
     ]
    }
   ],
   "source": [
    "print(transcibir(A))"
   ]
  },
  {
   "cell_type": "code",
   "execution_count": 90,
   "metadata": {},
   "outputs": [],
   "source": [
    "fasta1 = SeqIO.read(ID ,\"genbank\")"
   ]
  },
  {
   "cell_type": "code",
   "execution_count": 92,
   "metadata": {},
   "outputs": [
    {
     "ename": "NameError",
     "evalue": "name 'FastaWriter' is not defined",
     "output_type": "error",
     "traceback": [
      "\u001b[0;31m---------------------------------------------------------------------------\u001b[0m",
      "\u001b[0;31mNameError\u001b[0m                                 Traceback (most recent call last)",
      "Cell \u001b[0;32mIn [92], line 2\u001b[0m\n\u001b[1;32m      1\u001b[0m handle \u001b[38;5;241m=\u001b[39m \u001b[38;5;28mopen\u001b[39m(filename, \u001b[38;5;124m\"\u001b[39m\u001b[38;5;124mw\u001b[39m\u001b[38;5;124m\"\u001b[39m)\n\u001b[0;32m----> 2\u001b[0m writer \u001b[38;5;241m=\u001b[39m \u001b[43mFastaWriter\u001b[49m(handle)\n\u001b[1;32m      3\u001b[0m writer\u001b[38;5;241m.\u001b[39mwrite_file(myRecords)\n\u001b[1;32m      4\u001b[0m handle\u001b[38;5;241m.\u001b[39mclose()\n",
      "\u001b[0;31mNameError\u001b[0m: name 'FastaWriter' is not defined"
     ]
    }
   ],
   "source": [
    "handle = open(filename, \"w\")\n",
    "writer = FastaWriter(handle)\n",
    "writer.write_file(myRecords)\n",
    "handle.close()"
   ]
  }
 ],
 "metadata": {
  "kernelspec": {
   "display_name": "Python 3 (ipykernel)",
   "language": "python",
   "name": "python3"
  },
  "language_info": {
   "codemirror_mode": {
    "name": "ipython",
    "version": 3
   },
   "file_extension": ".py",
   "mimetype": "text/x-python",
   "name": "python",
   "nbconvert_exporter": "python",
   "pygments_lexer": "ipython3",
   "version": "3.10.6"
  }
 },
 "nbformat": 4,
 "nbformat_minor": 4
}
